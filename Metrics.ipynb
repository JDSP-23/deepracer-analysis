{
 "cells": [
  {
   "cell_type": "markdown",
   "metadata": {},
   "source": [
    "# Metrics Analysis\n",
    "\n",
    "This notebook has been created to enable easy monitoring of the training progress by providing graphical charts similar to the chart shown in the DeepRacer Console. It integrates directly with S3, so it is easy to reload to get updated charts.\n",
    "\n",
    "## Usage\n",
    "\n",
    "Out of the box the file will only need the bucket and prefix of your model to load in the data. If you run S3 locally (using minio) some additional parameters are required. Examples are listed below.\n",
    "\n",
    "Since this file can change in the future, I recommend that you make its copy and reorganize it to your liking. This way you will not lose your changes and you'll be able to add things as you please.\n",
    "\n",
    "## Contributions\n",
    "\n",
    "As usual, your ideas are very welcome and encouraged so if you have any suggestions either bring them to [the AWS DeepRacer Community](http://join.deepracing.io) or share as code contributions.\n",
    "\n",
    "## Requirements\n",
    "\n",
    "Before you start using the notebook, you will need to install some dependencies. If you haven't yet done so, have a look at [The README.md file](/edit/README.md#running-the-notebooks) to find what you need to install.\n",
    "\n",
    "Apart from the install, you also have to configure your programmatic access to AWS. Have a look at the guides below, AWS resources will lead you by the hand:\n",
    "\n",
    "AWS CLI: https://docs.aws.amazon.com/cli/latest/userguide/cli-chap-configure.html\n",
    "\n",
    "Boto Configuration: https://boto3.amazonaws.com/v1/documentation/api/latest/guide/configuration.html\n",
    "\n",
    "## Imports & Functions\n",
    "\n",
    "Run the imports and function blocks below:"
   ]
  },
  {
   "cell_type": "code",
   "execution_count": 8,
   "metadata": {
    "lines_to_next_cell": 2
   },
   "outputs": [],
   "source": [
    "from deepracer.logs import metrics\n",
    "import matplotlib.pyplot as plt\n",
    "import numpy as np\n",
    "import os\n",
    "import boto3\n",
    "\n",
    "NUM_ROUNDS=1 # default to define variable"
   ]
  },
  {
   "cell_type": "code",
   "execution_count": null,
   "metadata": {},
   "outputs": [],
   "source": []
  },
  {
   "cell_type": "markdown",
   "metadata": {},
   "source": [
    "## Login\n",
    "\n",
    "Login to AWS. There are several ways to log in:\n",
    "1. On EC2 instance or Sagemaker Notebook with correct IAM execution role assigned.\n",
    "2. AWS credentials available in `.aws/` through using the `aws configure` command. (DeepRacer-for-Cloud's `dr-start-loganalysis` supports this)\n",
    "3. Setting the relevant environment variables by uncommenting the below section."
   ]
  },
  {
   "cell_type": "code",
   "execution_count": null,
   "metadata": {},
   "outputs": [],
   "source": [
    "# os.environ[\"AWS_DEFAULT_REGION\"] = \"\" #<-Add your region\n",
    "# os.environ[\"AWS_ACCESS_KEY_ID\"] = \"\" #<-Add your access key\n",
    "# os.environ[\"AWS_SECRET_ACCESS_KEY\"] = \"\" #<-Add you secret access key\n",
    "# os.environ[\"AWS_SESSION_TOKEN\"] = \"\" #<-Add your session key if you have one"
   ]
  },
  {
   "cell_type": "markdown",
   "metadata": {},
   "source": [
    "## Core configuration"
   ]
  },
  {
   "cell_type": "code",
   "execution_count": 9,
   "metadata": {
    "lines_to_next_cell": 1,
    "tags": [
     "parameters"
    ]
   },
   "outputs": [],
   "source": [
    "# For basic setup set prefix to exact S3 location.  For advanced setup set prefix without the hypen and number at the end e.g. for test-1, test-2 set prefix as test \n",
    "PREFIX='Demo-Reinvent'\n",
    "BUCKET='deepracer-local'"
   ]
  },
  {
   "cell_type": "markdown",
   "metadata": {},
   "source": [
    "## Loading data\n",
    "\n",
    "### Basic setup\n",
    "\n",
    "The basic setup covers loading in data from one single prefix, and one single worker. "
   ]
  },
  {
   "cell_type": "code",
   "execution_count": 4,
   "metadata": {},
   "outputs": [],
   "source": [
    "# tm = metrics.TrainingMetrics(BUCKET, model_name=PREFIX)"
   ]
  },
  {
   "cell_type": "markdown",
   "metadata": {},
   "source": [
    "### Local minio setup\n",
    "If you run training locally you will need to add a few parameters"
   ]
  },
  {
   "cell_type": "code",
   "execution_count": 4,
   "metadata": {},
   "outputs": [],
   "source": [
    "# tm = metrics.TrainingMetrics(BUCKET, model_name=PREFIX, profile='minio', s3_endpoint_url='http://minio:9000')"
   ]
  },
  {
   "cell_type": "markdown",
   "metadata": {},
   "source": [
    "### Advanced setup\n",
    "\n",
    "In the advanced setup we can load in multiple (cloned) training sessions in sequence to show progress end-to-end even if the training was stopped and restarted/cloned. Furthermore it is possible to load in training sessions with more than one worker (i.e. more than one Robomaker). \n",
    "\n",
    "The recommended way to do this is to have a naming convention for the training sessions (e.g. MyModel-1, MyModel-2). The below loading lines require this.\n"
   ]
  },
  {
   "cell_type": "code",
   "execution_count": null,
   "metadata": {
    "tags": [
     "parameters"
    ]
   },
   "outputs": [],
   "source": [
    "PROFILE=\"minio\"\n",
    "S3_ENDPOINT_URL=\"http://minio:9000\""
   ]
  },
  {
   "cell_type": "code",
   "execution_count": 7,
   "metadata": {},
   "outputs": [],
   "source": [
    "FILEPATH = PREFIX + \"/metrics\"\n",
    "\n",
    "s3 = boto3.resource('s3')\n",
    "\n",
    "def get_object_count(bucket_name, folder_name):\n",
    "    bucket = s3.Bucket(bucket_name)\n",
    "    objects = bucket.objects.filter(Prefix=folder_name)\n",
    "    return sum(1 for _ in objects)\n",
    "\n",
    "WORKERS = get_object_count(BUCKET, FILEPATH)\n",
    "\n",
    "s3client=boto3.client('s3')\n",
    "models=s3client.list_objects(Bucket=BUCKET, Prefix=PREFIX, Delimiter='/')\n",
    "model_list=models['CommonPrefixes']\n",
    "\n",
    "list_model_workers = []\n",
    "for m in model_list:\n",
    "    modle_path=m['Prefix'][:-1]\n",
    "    model_number=modle_path[len(modle_path)-1]\n",
    "    WORKERS = get_object_count(BUCKET, PREFIX + \"-\" + model_number + \"/metrics\")\n",
    "    list_model_workers.append([int(model_number), WORKERS])\n",
    "rounds=np.asarray(list_model_workers)\n",
    "\n",
    "NUM_ROUNDS=rounds.shape[0]"
   ]
  },
  {
   "cell_type": "markdown",
   "metadata": {},
   "source": [
    "Load in the models. You will be given a brief statistic of what has been loaded. To save on bandwidth, if already loaded once, only reload last round."
   ]
  },
  {
   "cell_type": "code",
   "execution_count": 4,
   "metadata": {},
   "outputs": [
    {
     "name": "stdout",
     "output_type": "stream",
     "text": [
      "Successfully loaded training round 1 for worker 0: Iterations: 56, Training episodes: 560, Evaluation episodes: 267\n"
     ]
    }
   ],
   "source": [
    "if 'tm' not in globals():\n",
    "    tm = metrics.TrainingMetrics(BUCKET, profile=PROFILE, s3_endpoint_url=S3_ENDPOINT_URL)\n",
    "\n",
    "    for r in rounds:\n",
    "        tm.addRound('{}-{}'.format(PREFIX, r[0]), training_round=r[0], workers=r[1])\n",
    "else:\n",
    "    tm.reloadRound('{}-{}'.format(PREFIX, rounds[-1][0]), training_round=rounds[-1][0], workers=rounds[-1][1])    "
   ]
  },
  {
   "cell_type": "markdown",
   "metadata": {},
   "source": [
    "## Analysis"
   ]
  },
  {
   "cell_type": "markdown",
   "metadata": {},
   "source": [
    "The first analysis we will do is to display the basic statistics of the last 5 iterations."
   ]
  },
  {
   "cell_type": "code",
   "execution_count": 12,
   "metadata": {},
   "outputs": [
    {
     "data": {
      "text/html": [
       "<div>\n",
       "<style scoped>\n",
       "    .dataframe tbody tr th:only-of-type {\n",
       "        vertical-align: middle;\n",
       "    }\n",
       "\n",
       "    .dataframe tbody tr th {\n",
       "        vertical-align: top;\n",
       "    }\n",
       "\n",
       "    .dataframe thead th {\n",
       "        text-align: right;\n",
       "    }\n",
       "</style>\n",
       "<table border=\"1\" class=\"dataframe\">\n",
       "  <thead>\n",
       "    <tr style=\"text-align: right;\">\n",
       "      <th></th>\n",
       "      <th></th>\n",
       "      <th>train_reward</th>\n",
       "      <th>train_completion</th>\n",
       "      <th>train_time</th>\n",
       "      <th>train_completed</th>\n",
       "      <th>train_episodes</th>\n",
       "      <th>eval_reward</th>\n",
       "      <th>eval_completion</th>\n",
       "      <th>eval_time</th>\n",
       "      <th>eval_completed</th>\n",
       "      <th>eval_episodes</th>\n",
       "    </tr>\n",
       "    <tr>\n",
       "      <th>r-i</th>\n",
       "      <th>master_iteration</th>\n",
       "      <th></th>\n",
       "      <th></th>\n",
       "      <th></th>\n",
       "      <th></th>\n",
       "      <th></th>\n",
       "      <th></th>\n",
       "      <th></th>\n",
       "      <th></th>\n",
       "      <th></th>\n",
       "      <th></th>\n",
       "    </tr>\n",
       "  </thead>\n",
       "  <tbody>\n",
       "    <tr>\n",
       "      <th>01-051</th>\n",
       "      <th>51</th>\n",
       "      <td>609.8</td>\n",
       "      <td>87.9</td>\n",
       "      <td>9.0432</td>\n",
       "      <td>0.8</td>\n",
       "      <td>10</td>\n",
       "      <td>688.00</td>\n",
       "      <td>92.75</td>\n",
       "      <td>9.13625</td>\n",
       "      <td>0.75</td>\n",
       "      <td>4</td>\n",
       "    </tr>\n",
       "    <tr>\n",
       "      <th>01-052</th>\n",
       "      <th>52</th>\n",
       "      <td>698.0</td>\n",
       "      <td>94.1</td>\n",
       "      <td>9.2445</td>\n",
       "      <td>0.7</td>\n",
       "      <td>10</td>\n",
       "      <td>709.40</td>\n",
       "      <td>94.40</td>\n",
       "      <td>9.09780</td>\n",
       "      <td>0.80</td>\n",
       "      <td>5</td>\n",
       "    </tr>\n",
       "    <tr>\n",
       "      <th>01-053</th>\n",
       "      <th>53</th>\n",
       "      <td>637.1</td>\n",
       "      <td>89.0</td>\n",
       "      <td>9.1706</td>\n",
       "      <td>0.7</td>\n",
       "      <td>10</td>\n",
       "      <td>764.20</td>\n",
       "      <td>100.00</td>\n",
       "      <td>9.77740</td>\n",
       "      <td>1.00</td>\n",
       "      <td>5</td>\n",
       "    </tr>\n",
       "    <tr>\n",
       "      <th>01-054</th>\n",
       "      <th>54</th>\n",
       "      <td>641.1</td>\n",
       "      <td>88.6</td>\n",
       "      <td>8.9949</td>\n",
       "      <td>0.8</td>\n",
       "      <td>10</td>\n",
       "      <td>739.00</td>\n",
       "      <td>100.00</td>\n",
       "      <td>9.91150</td>\n",
       "      <td>1.00</td>\n",
       "      <td>4</td>\n",
       "    </tr>\n",
       "    <tr>\n",
       "      <th>01-055</th>\n",
       "      <th>55</th>\n",
       "      <td>458.9</td>\n",
       "      <td>67.5</td>\n",
       "      <td>7.0372</td>\n",
       "      <td>0.5</td>\n",
       "      <td>10</td>\n",
       "      <td>707.75</td>\n",
       "      <td>95.25</td>\n",
       "      <td>9.44450</td>\n",
       "      <td>0.75</td>\n",
       "      <td>4</td>\n",
       "    </tr>\n",
       "  </tbody>\n",
       "</table>\n",
       "</div>"
      ],
      "text/plain": [
       "                         train_reward  train_completion  train_time  \\\n",
       "r-i    master_iteration                                               \n",
       "01-051 51                       609.8              87.9      9.0432   \n",
       "01-052 52                       698.0              94.1      9.2445   \n",
       "01-053 53                       637.1              89.0      9.1706   \n",
       "01-054 54                       641.1              88.6      8.9949   \n",
       "01-055 55                       458.9              67.5      7.0372   \n",
       "\n",
       "                         train_completed  train_episodes  eval_reward  \\\n",
       "r-i    master_iteration                                                 \n",
       "01-051 51                            0.8              10       688.00   \n",
       "01-052 52                            0.7              10       709.40   \n",
       "01-053 53                            0.7              10       764.20   \n",
       "01-054 54                            0.8              10       739.00   \n",
       "01-055 55                            0.5              10       707.75   \n",
       "\n",
       "                         eval_completion  eval_time  eval_completed  \\\n",
       "r-i    master_iteration                                               \n",
       "01-051 51                          92.75    9.13625            0.75   \n",
       "01-052 52                          94.40    9.09780            0.80   \n",
       "01-053 53                         100.00    9.77740            1.00   \n",
       "01-054 54                         100.00    9.91150            1.00   \n",
       "01-055 55                          95.25    9.44450            0.75   \n",
       "\n",
       "                         eval_episodes  \n",
       "r-i    master_iteration                 \n",
       "01-051 51                            4  \n",
       "01-052 52                            5  \n",
       "01-053 53                            5  \n",
       "01-054 54                            4  \n",
       "01-055 55                            4  "
      ]
     },
     "execution_count": 12,
     "metadata": {},
     "output_type": "execute_result"
    }
   ],
   "source": [
    "summary=tm.getSummary(method='mean', summary_index=['r-i','master_iteration'])\n",
    "summary[-5:]"
   ]
  },
  {
   "cell_type": "code",
   "execution_count": 17,
   "metadata": {},
   "outputs": [
    {
     "name": "stdout",
     "output_type": "stream",
     "text": [
      "Latest iteration: 01-055 / master 55\n",
      "Episodes: 560\n"
     ]
    }
   ],
   "source": [
    "train=tm.getTraining()\n",
    "ev=tm.getEvaluation()\n",
    "\n",
    "print(\"Latest iteration: %s / master %i\" % (max(train['r-i']),max(train['master_iteration'])))\n",
    "print(\"Episodes: %i\" % len(train))"
   ]
  },
  {
   "cell_type": "markdown",
   "metadata": {},
   "source": [
    "### Plotting progress\n",
    "\n",
    "The next command will display the desired progress chart. It shows the data per iteration (dots), and a rolling average to allow the user to easily spot a trend. \n",
    "\n",
    "One can control the number of charts to show, based on which metric one wants to use `min`, `max`, `median` and `mean` are some of the available options.\n",
    "\n",
    "By altering the `rounds` parameter one can choose to not display all training rounds."
   ]
  },
  {
   "cell_type": "code",
   "execution_count": 1,
   "metadata": {},
   "outputs": [
    {
     "ename": "NameError",
     "evalue": "name 'tm' is not defined",
     "output_type": "error",
     "traceback": [
      "\u001b[0;31m---------------------------------------------------------------------------\u001b[0m",
      "\u001b[0;31mNameError\u001b[0m                                 Traceback (most recent call last)",
      "\u001b[1;32m/home/ludvigse/deepracer-analysis/Metrics.ipynb Cell 22\u001b[0m line \u001b[0;36m1\n\u001b[0;32m----> <a href='vscode-notebook-cell://ssh-remote%2Blambert/home/ludvigse/deepracer-analysis/Metrics.ipynb#X25sdnNjb2RlLXJlbW90ZQ%3D%3D?line=0'>1</a>\u001b[0m _ \u001b[39m=\u001b[39m tm\u001b[39m.\u001b[39mplotProgress(method\u001b[39m=\u001b[39m[\u001b[39m'\u001b[39m\u001b[39mmedian\u001b[39m\u001b[39m'\u001b[39m,\u001b[39m'\u001b[39m\u001b[39mmean\u001b[39m\u001b[39m'\u001b[39m,\u001b[39m'\u001b[39m\u001b[39mmax\u001b[39m\u001b[39m'\u001b[39m], rolling_average\u001b[39m=\u001b[39m\u001b[39m5\u001b[39m, figsize\u001b[39m=\u001b[39m(\u001b[39m20\u001b[39m,\u001b[39m5\u001b[39m), rounds\u001b[39m=\u001b[39mrounds[:,\u001b[39m0\u001b[39m])\n",
      "\u001b[0;31mNameError\u001b[0m: name 'tm' is not defined"
     ]
    }
   ],
   "source": [
    "_ = tm.plotProgress(method=['median','mean','max'], rolling_average=5, figsize=(20,5), rounds=rounds[:,0])"
   ]
  },
  {
   "cell_type": "code",
   "execution_count": null,
   "metadata": {},
   "outputs": [],
   "source": [
    "_ = tm.plotProgress(method=['mean'],rolling_average=20,figsize=(20,5), \n",
    "                series=[('eval_completed','Evaluation','orange'),('train_completed','Training','blue')], \n",
    "                title=\"Percent completed laps ({}).\", \n",
    "                ylabel=\"Percent\", completedLapsOnly=False, grid=True)"
   ]
  },
  {
   "cell_type": "markdown",
   "metadata": {},
   "source": [
    "### Best laps\n",
    "\n",
    "The following rounds will show the fastest 5 training and evaluation laps."
   ]
  },
  {
   "cell_type": "code",
   "execution_count": null,
   "metadata": {},
   "outputs": [
    {
     "data": {
      "text/html": [
       "<div>\n",
       "<style scoped>\n",
       "    .dataframe tbody tr th:only-of-type {\n",
       "        vertical-align: middle;\n",
       "    }\n",
       "\n",
       "    .dataframe tbody tr th {\n",
       "        vertical-align: top;\n",
       "    }\n",
       "\n",
       "    .dataframe thead th {\n",
       "        text-align: right;\n",
       "    }\n",
       "</style>\n",
       "<table border=\"1\" class=\"dataframe\">\n",
       "  <thead>\n",
       "    <tr style=\"text-align: right;\">\n",
       "      <th></th>\n",
       "      <th>r-i</th>\n",
       "      <th>round</th>\n",
       "      <th>iteration</th>\n",
       "      <th>master_iteration</th>\n",
       "      <th>episode</th>\n",
       "      <th>r-e</th>\n",
       "      <th>worker</th>\n",
       "      <th>trial</th>\n",
       "      <th>phase</th>\n",
       "      <th>reward</th>\n",
       "      <th>completion</th>\n",
       "      <th>time</th>\n",
       "      <th>complete</th>\n",
       "      <th>start_time</th>\n",
       "    </tr>\n",
       "  </thead>\n",
       "  <tbody>\n",
       "    <tr>\n",
       "      <th>734</th>\n",
       "      <td>01-049</td>\n",
       "      <td>1</td>\n",
       "      <td>49</td>\n",
       "      <td>49</td>\n",
       "      <td>500</td>\n",
       "      <td>1-0500</td>\n",
       "      <td>0</td>\n",
       "      <td>10</td>\n",
       "      <td>training</td>\n",
       "      <td>738</td>\n",
       "      <td>100</td>\n",
       "      <td>9.212</td>\n",
       "      <td>1</td>\n",
       "      <td>5237265</td>\n",
       "    </tr>\n",
       "    <tr>\n",
       "      <th>771</th>\n",
       "      <td>01-052</td>\n",
       "      <td>1</td>\n",
       "      <td>52</td>\n",
       "      <td>52</td>\n",
       "      <td>523</td>\n",
       "      <td>1-0523</td>\n",
       "      <td>0</td>\n",
       "      <td>3</td>\n",
       "      <td>training</td>\n",
       "      <td>780</td>\n",
       "      <td>100</td>\n",
       "      <td>9.421</td>\n",
       "      <td>1</td>\n",
       "      <td>5633962</td>\n",
       "    </tr>\n",
       "    <tr>\n",
       "      <th>654</th>\n",
       "      <td>01-044</td>\n",
       "      <td>1</td>\n",
       "      <td>44</td>\n",
       "      <td>44</td>\n",
       "      <td>446</td>\n",
       "      <td>1-0446</td>\n",
       "      <td>0</td>\n",
       "      <td>6</td>\n",
       "      <td>training</td>\n",
       "      <td>741</td>\n",
       "      <td>100</td>\n",
       "      <td>9.450</td>\n",
       "      <td>1</td>\n",
       "      <td>4403125</td>\n",
       "    </tr>\n",
       "    <tr>\n",
       "      <th>667</th>\n",
       "      <td>01-045</td>\n",
       "      <td>1</td>\n",
       "      <td>45</td>\n",
       "      <td>45</td>\n",
       "      <td>454</td>\n",
       "      <td>1-0454</td>\n",
       "      <td>0</td>\n",
       "      <td>4</td>\n",
       "      <td>training</td>\n",
       "      <td>779</td>\n",
       "      <td>100</td>\n",
       "      <td>9.455</td>\n",
       "      <td>1</td>\n",
       "      <td>4545727</td>\n",
       "    </tr>\n",
       "    <tr>\n",
       "      <th>637</th>\n",
       "      <td>01-043</td>\n",
       "      <td>1</td>\n",
       "      <td>43</td>\n",
       "      <td>43</td>\n",
       "      <td>434</td>\n",
       "      <td>1-0434</td>\n",
       "      <td>0</td>\n",
       "      <td>4</td>\n",
       "      <td>training</td>\n",
       "      <td>756</td>\n",
       "      <td>100</td>\n",
       "      <td>9.458</td>\n",
       "      <td>1</td>\n",
       "      <td>4232120</td>\n",
       "    </tr>\n",
       "  </tbody>\n",
       "</table>\n",
       "</div>"
      ],
      "text/plain": [
       "        r-i  round  iteration  master_iteration  episode     r-e  worker  \\\n",
       "734  01-049      1         49                49      500  1-0500       0   \n",
       "771  01-052      1         52                52      523  1-0523       0   \n",
       "654  01-044      1         44                44      446  1-0446       0   \n",
       "667  01-045      1         45                45      454  1-0454       0   \n",
       "637  01-043      1         43                43      434  1-0434       0   \n",
       "\n",
       "     trial     phase  reward  completion   time  complete  start_time  \n",
       "734     10  training     738         100  9.212         1     5237265  \n",
       "771      3  training     780         100  9.421         1     5633962  \n",
       "654      6  training     741         100  9.450         1     4403125  \n",
       "667      4  training     779         100  9.455         1     4545727  \n",
       "637      4  training     756         100  9.458         1     4232120  "
      ]
     },
     "metadata": {},
     "output_type": "display_data"
    }
   ],
   "source": [
    "train_complete_lr = train[(train['round']>(NUM_ROUNDS-1)) & (train['complete']==1)]\n",
    "display(train_complete_lr.nsmallest(5,['time']))"
   ]
  },
  {
   "cell_type": "code",
   "execution_count": null,
   "metadata": {},
   "outputs": [
    {
     "data": {
      "text/html": [
       "<div>\n",
       "<style scoped>\n",
       "    .dataframe tbody tr th:only-of-type {\n",
       "        vertical-align: middle;\n",
       "    }\n",
       "\n",
       "    .dataframe tbody tr th {\n",
       "        vertical-align: top;\n",
       "    }\n",
       "\n",
       "    .dataframe thead th {\n",
       "        text-align: right;\n",
       "    }\n",
       "</style>\n",
       "<table border=\"1\" class=\"dataframe\">\n",
       "  <thead>\n",
       "    <tr style=\"text-align: right;\">\n",
       "      <th></th>\n",
       "      <th>r-i</th>\n",
       "      <th>round</th>\n",
       "      <th>iteration</th>\n",
       "      <th>master_iteration</th>\n",
       "      <th>episode</th>\n",
       "      <th>r-e</th>\n",
       "      <th>worker</th>\n",
       "      <th>trial</th>\n",
       "      <th>phase</th>\n",
       "      <th>reward</th>\n",
       "      <th>completion</th>\n",
       "      <th>time</th>\n",
       "      <th>complete</th>\n",
       "      <th>start_time</th>\n",
       "    </tr>\n",
       "  </thead>\n",
       "  <tbody>\n",
       "    <tr>\n",
       "      <th>690</th>\n",
       "      <td>01-046</td>\n",
       "      <td>1</td>\n",
       "      <td>46</td>\n",
       "      <td>46</td>\n",
       "      <td>470</td>\n",
       "      <td>1-0470</td>\n",
       "      <td>0</td>\n",
       "      <td>10</td>\n",
       "      <td>evaluation</td>\n",
       "      <td>772</td>\n",
       "      <td>100</td>\n",
       "      <td>9.198</td>\n",
       "      <td>1</td>\n",
       "      <td>4781318</td>\n",
       "    </tr>\n",
       "    <tr>\n",
       "      <th>704</th>\n",
       "      <td>01-047</td>\n",
       "      <td>1</td>\n",
       "      <td>47</td>\n",
       "      <td>47</td>\n",
       "      <td>480</td>\n",
       "      <td>1-0480</td>\n",
       "      <td>0</td>\n",
       "      <td>10</td>\n",
       "      <td>evaluation</td>\n",
       "      <td>685</td>\n",
       "      <td>100</td>\n",
       "      <td>9.305</td>\n",
       "      <td>1</td>\n",
       "      <td>4916996</td>\n",
       "    </tr>\n",
       "    <tr>\n",
       "      <th>662</th>\n",
       "      <td>01-044</td>\n",
       "      <td>1</td>\n",
       "      <td>44</td>\n",
       "      <td>44</td>\n",
       "      <td>450</td>\n",
       "      <td>1-0450</td>\n",
       "      <td>0</td>\n",
       "      <td>10</td>\n",
       "      <td>evaluation</td>\n",
       "      <td>711</td>\n",
       "      <td>100</td>\n",
       "      <td>9.309</td>\n",
       "      <td>1</td>\n",
       "      <td>4492916</td>\n",
       "    </tr>\n",
       "    <tr>\n",
       "      <th>780</th>\n",
       "      <td>01-052</td>\n",
       "      <td>1</td>\n",
       "      <td>52</td>\n",
       "      <td>52</td>\n",
       "      <td>530</td>\n",
       "      <td>1-0530</td>\n",
       "      <td>0</td>\n",
       "      <td>10</td>\n",
       "      <td>evaluation</td>\n",
       "      <td>767</td>\n",
       "      <td>100</td>\n",
       "      <td>9.335</td>\n",
       "      <td>1</td>\n",
       "      <td>5725527</td>\n",
       "    </tr>\n",
       "    <tr>\n",
       "      <th>573</th>\n",
       "      <td>01-038</td>\n",
       "      <td>1</td>\n",
       "      <td>38</td>\n",
       "      <td>38</td>\n",
       "      <td>390</td>\n",
       "      <td>1-0390</td>\n",
       "      <td>0</td>\n",
       "      <td>10</td>\n",
       "      <td>evaluation</td>\n",
       "      <td>756</td>\n",
       "      <td>100</td>\n",
       "      <td>9.449</td>\n",
       "      <td>1</td>\n",
       "      <td>3590993</td>\n",
       "    </tr>\n",
       "  </tbody>\n",
       "</table>\n",
       "</div>"
      ],
      "text/plain": [
       "        r-i  round  iteration  master_iteration  episode     r-e  worker  \\\n",
       "690  01-046      1         46                46      470  1-0470       0   \n",
       "704  01-047      1         47                47      480  1-0480       0   \n",
       "662  01-044      1         44                44      450  1-0450       0   \n",
       "780  01-052      1         52                52      530  1-0530       0   \n",
       "573  01-038      1         38                38      390  1-0390       0   \n",
       "\n",
       "     trial       phase  reward  completion   time  complete  start_time  \n",
       "690     10  evaluation     772         100  9.198         1     4781318  \n",
       "704     10  evaluation     685         100  9.305         1     4916996  \n",
       "662     10  evaluation     711         100  9.309         1     4492916  \n",
       "780     10  evaluation     767         100  9.335         1     5725527  \n",
       "573     10  evaluation     756         100  9.449         1     3590993  "
      ]
     },
     "metadata": {},
     "output_type": "display_data"
    }
   ],
   "source": [
    "eval_complete_lr = ev[(ev['round']>(NUM_ROUNDS-1)) & (ev['complete']==1)]\n",
    "display(eval_complete_lr.nsmallest(5,['time']))"
   ]
  },
  {
   "cell_type": "markdown",
   "metadata": {},
   "source": [
    "### Best lap progression\n",
    "\n",
    "The below plot will show how the best laps for training and evaluation changes over time. This is useful to see if your model gets faster over time."
   ]
  },
  {
   "cell_type": "code",
   "execution_count": null,
   "metadata": {},
   "outputs": [],
   "source": [
    "_ = tm.plotProgress(method=['min','mean'],rolling_average=15, figsize=(20,5), \n",
    "                series=[('eval_time','Evaluation','orange'),('train_time','Training','blue')], \n",
    "                title=\"Laptime for completed laps ({}).\", \n",
    "                ylabel=\"Laptime\", completedLapsOnly=True, grid=True)"
   ]
  },
  {
   "cell_type": "code",
   "execution_count": null,
   "metadata": {},
   "outputs": [
    {
     "data": {
      "image/png": "[encoded data removed]",
      "text/plain": [
       "<Figure size 1080x360 with 1 Axes>"
      ]
     },
     "metadata": {
      "needs_background": "light"
     },
     "output_type": "display_data"
    }
   ],
   "source": [
    "plt.figure(figsize=(15,5))\n",
    "plt.title('Best lap progression')\n",
    "plt.scatter(train_complete_lr['master_iteration'],train_complete_lr['time'],alpha=0.4)\n",
    "plt.scatter(eval_complete_lr['master_iteration'],eval_complete_lr['time'],alpha=0.4)\n",
    "plt.show()"
   ]
  },
  {
   "cell_type": "markdown",
   "metadata": {},
   "source": [
    "### Lap progress\n",
    "\n",
    "The below shows the completion for each training and evaluation episode."
   ]
  },
  {
   "cell_type": "code",
   "execution_count": null,
   "metadata": {},
   "outputs": [
    {
     "data": {
      "image/png": "[encoded data removed]",
      "text/plain": [
       "<Figure size 1080x360 with 1 Axes>"
      ]
     },
     "metadata": {
      "needs_background": "light"
     },
     "output_type": "display_data"
    }
   ],
   "source": [
    "plt.figure(figsize=(15,5))\n",
    "plt.title('Progress per episode')\n",
    "train_r = train[train['round']==NUM_ROUNDS]\n",
    "eval_r = ev[ev['round']==NUM_ROUNDS]\n",
    "plt.scatter(train_r['episode'],train_r['completion'],alpha=0.5)\n",
    "plt.scatter(eval_r['episode'],eval_r['completion'],c='orange',alpha=0.5)\n",
    "plt.show()"
   ]
  }
 ],
 "metadata": {
  "jupytext": {
   "formats": "ipynb,py:light"
  },
  "kernelspec": {
   "display_name": "Python 3 (ipykernel)",
   "language": "python",
   "name": "python3"
  },
  "language_info": {
   "codemirror_mode": {
    "name": "ipython",
    "version": 3
   },
   "file_extension": ".py",
   "mimetype": "text/x-python",
   "name": "python",
   "nbconvert_exporter": "python",
   "pygments_lexer": "ipython3",
   "version": "3.10.12"
  },
  "toc-autonumbering": false
 },
 "nbformat": 4,
 "nbformat_minor": 4
}
